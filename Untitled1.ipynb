{
  "nbformat": 4,
  "nbformat_minor": 0,
  "metadata": {
    "colab": {
      "provenance": []
    },
    "kernelspec": {
      "name": "python3",
      "display_name": "Python 3"
    },
    "language_info": {
      "name": "python"
    }
  },
  "cells": [
    {
      "cell_type": "code",
      "execution_count": null,
      "metadata": {
        "id": "ULqXBemAqepT"
      },
      "outputs": [],
      "source": []
    },
    {
      "cell_type": "markdown",
      "source": [
        "1. what is the python\n",
        "  - python is a programming launguage\n",
        "\n",
        "  2. ques number 2\n",
        "    - this is answer\n"
      ],
      "metadata": {
        "id": "bsNaZs8w76ed"
      }
    },
    {
      "cell_type": "code",
      "source": [
        "print = (\"hello world\")\n",
        "print"
      ],
      "metadata": {
        "colab": {
          "base_uri": "https://localhost:8080/",
          "height": 35
        },
        "id": "jDc0Kg0-8MEX",
        "outputId": "72a21a3f-a3ea-4ec0-87c5-d4e6068ae0a7"
      },
      "execution_count": 2,
      "outputs": [
        {
          "output_type": "execute_result",
          "data": {
            "text/plain": [
              "'hello world'"
            ],
            "application/vnd.google.colaboratory.intrinsic+json": {
              "type": "string"
            }
          },
          "metadata": {},
          "execution_count": 2
        }
      ]
    },
    {
      "cell_type": "code",
      "source": [],
      "metadata": {
        "id": "TupR2gUl8n13"
      },
      "execution_count": null,
      "outputs": []
    }
  ]
}